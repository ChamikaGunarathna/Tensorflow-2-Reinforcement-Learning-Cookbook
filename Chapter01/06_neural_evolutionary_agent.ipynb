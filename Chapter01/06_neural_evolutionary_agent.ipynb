{
 "cells": [
  {
   "cell_type": "markdown",
   "metadata": {},
   "source": [
    "Neural Evolutionary Agent for GridWorld RL environment with image observations\n",
    "Chapter 1, TensorFlow 2 Reinforcement Learning Cookbook | Praveen Palanisamy"
   ]
  },
  {
   "cell_type": "code",
   "execution_count": 1,
   "metadata": {},
   "outputs": [],
   "source": [
    "from collections import namedtuple"
   ]
  },
  {
   "cell_type": "code",
   "execution_count": 2,
   "metadata": {},
   "outputs": [],
   "source": [
    "import gym\n",
    "import matplotlib.pyplot as plt\n",
    "import numpy as np\n",
    "import tensorflow as tf\n",
    "from tensorflow import keras\n",
    "from tensorflow.keras import layers\n",
    "from tqdm import tqdm"
   ]
  },
  {
   "cell_type": "code",
   "execution_count": 3,
   "metadata": {},
   "outputs": [],
   "source": [
    "import envs  # Required to register Gridworld-v0 env"
   ]
  },
  {
   "cell_type": "code",
   "execution_count": 4,
   "metadata": {},
   "outputs": [],
   "source": [
    "class Brain(keras.Model):\n",
    "    def __init__(self, action_dim=5, input_shape=(1, 8 * 8)):\n",
    "        \"\"\"Initialize the Agent's Brain model\n",
    "\n",
    "        Args:\n",
    "            action_dim (int): Number of actions\n",
    "        \"\"\"\n",
    "        super(Brain, self).__init__()\n",
    "        self.dense1 = layers.Dense(32, input_shape=input_shape, activation=\"relu\")\n",
    "        self.logits = layers.Dense(action_dim)\n",
    "\n",
    "    def call(self, inputs):\n",
    "        x = tf.convert_to_tensor(inputs)\n",
    "        logits = self.logits(self.dense1(x))\n",
    "        return logits\n",
    "\n",
    "    def process(self, observations):\n",
    "        # Process batch observations using `call(inputs)` behind-the-scenes\n",
    "        action_logits = self.predict_on_batch(observations)\n",
    "        return action_logits"
   ]
  },
  {
   "cell_type": "code",
   "execution_count": 5,
   "metadata": {},
   "outputs": [],
   "source": [
    "class Agent(object):\n",
    "    def __init__(self, action_dim=5, input_shape=(1, 8 * 8)):\n",
    "        \"\"\"Agent with a neural-network brain powered policy\n",
    "\n",
    "        Args:\n",
    "            brain (keras.Model): Neural Network based model\n",
    "        \"\"\"\n",
    "        self.brain = Brain(action_dim, input_shape)\n",
    "        self.brain.compile(\n",
    "            loss=\"categorical_crossentropy\", optimizer=\"adam\", metrics=[\"accuracy\"]\n",
    "        )\n",
    "        self.policy = self.policy_mlp\n",
    "\n",
    "    def policy_mlp(self, observations):\n",
    "        observations = observations.reshape(1, -1)\n",
    "        action_logits = self.brain.process(observations)\n",
    "        action = tf.random.categorical(tf.math.log(action_logits), num_samples=1)\n",
    "        return action  # tf.squeeze(action, axis=0)\n",
    "\n",
    "    def get_action(self, observations):\n",
    "        return self.policy(observations)\n",
    "\n",
    "    def learn(self, obs, actions, **kwargs):\n",
    "        self.brain.fit(obs, actions, **kwargs)"
   ]
  },
  {
   "cell_type": "code",
   "execution_count": 6,
   "metadata": {},
   "outputs": [],
   "source": [
    "Trajectory = namedtuple(\"Trajectory\", [\"obs\", \"actions\", \"reward\"])"
   ]
  },
  {
   "cell_type": "code",
   "execution_count": 7,
   "metadata": {},
   "outputs": [],
   "source": [
    "# Evaluate agent in the given environment\n",
    "def evaluate(agent, env, render=True):\n",
    "    obs, episode_reward, done, step_num, info = env.reset(), 0.0, False, 0, None\n",
    "    while not done:\n",
    "        action = agent.get_action(obs)\n",
    "        obs, reward, done, info = env.step(action)\n",
    "        episode_reward += reward\n",
    "        step_num += 1\n",
    "        if render:\n",
    "            env.render()\n",
    "    return step_num, episode_reward, done, info"
   ]
  },
  {
   "cell_type": "code",
   "execution_count": 8,
   "metadata": {},
   "outputs": [],
   "source": [
    "def rollout(agent, env, render=False):\n",
    "    \"\"\"Rollout `agent` in the `environment` for 1 episode\n",
    "    Args:\n",
    "        agent (Agent): Agent/policy to generate state-conditioned actions\n",
    "        env (gym.Env): A Gym environment\n",
    "        total_steps (int, optional): Totall number of steps to rollout. Defaults to 1000.\n",
    "        render (bool, optional): Enable/disable rendering. Defaults to False.\n",
    "    Returns:\n",
    "        obs_batch (List): Batch of observations collected in the episode\n",
    "        actions_batch (List): Batch of actions performed in the episode\n",
    "        episode_reward (float): Total rewards accumulated in this episode\n",
    "    \"\"\"\n",
    "    obs, episode_reward, done, step_num = env.reset(), 0.0, False, 0\n",
    "    observations, actions = [], []\n",
    "    episode_reward = 0.0\n",
    "    while not done:\n",
    "        action = agent.get_action(obs)\n",
    "        next_obs, reward, done, info = env.step(action)\n",
    "        # Save experience\n",
    "        observations.append(\n",
    "            np.array(obs).reshape(-1)\n",
    "        )  # Convert to numpy & reshape (8, 8) to (1, 64)\n",
    "        actions.append(np.squeeze(action, 0))\n",
    "        episode_reward += reward\n",
    "\n",
    "        obs = next_obs\n",
    "        step_num += 1\n",
    "        if render:\n",
    "            env.render()\n",
    "    env.close()\n",
    "    return observations, actions, episode_reward"
   ]
  },
  {
   "cell_type": "code",
   "execution_count": 9,
   "metadata": {},
   "outputs": [],
   "source": [
    "def gather_elite_xp(trajectories, elitism_criterion):\n",
    "    \"\"\"Gather elite trajectories from the batch of trajectories\n",
    "    Args:\n",
    "        batch_trajectories (List): List of episode trajectories containing experiences (obs, actions, episode_reward)\n",
    "    Returns:\n",
    "        elite_batch_obs\n",
    "        elite_batch_actions\n",
    "        elite_reard_threshold\n",
    "    \"\"\"\n",
    "    trajectory_obs, trajectory_actions, trajectory_rewards = zip(*trajectories)\n",
    "    reward_threshold = np.percentile(trajectory_rewards, elitism_criterion)\n",
    "    indices = [\n",
    "        index\n",
    "        for index, value in enumerate(trajectory_rewards)\n",
    "        if value >= reward_threshold\n",
    "    ]\n",
    "\n",
    "    elite_trajectory_obs = [trajectory_obs[i] for i in indices]\n",
    "    elite_trajectory_actions = [trajectory_actions[i] for i in indices]\n",
    "    unpacked_elite_batch_obs = [\n",
    "        item for items in elite_trajectory_obs for item in items\n",
    "    ]\n",
    "    unpacked_elite_batch_actions = [\n",
    "        item for items in elite_trajectory_actions for item in items\n",
    "    ]\n",
    "    return (\n",
    "        np.array(unpacked_elite_batch_obs),\n",
    "        np.array(unpacked_elite_batch_actions),\n",
    "        reward_threshold,\n",
    "    )"
   ]
  },
  {
   "cell_type": "code",
   "execution_count": 10,
   "metadata": {},
   "outputs": [],
   "source": [
    "def gen_action_distribution(action_index, action_dim=5):\n",
    "    action_distribution = np.zeros(action_dim).astype(type(action_index))\n",
    "    action_distribution[action_index] = 1\n",
    "    # action_distribution = np.expand_dims(action_distribution, 0)\n",
    "    return action_distribution"
   ]
  },
  {
   "cell_type": "code",
   "execution_count": 11,
   "metadata": {},
   "outputs": [],
   "source": [
    "def train(\n",
    "    env_id=\"Gridworld-v0\",\n",
    "    num_trajectory_rollouts=70,\n",
    "    elitism_criterion=70,\n",
    "    num_epochs=10,\n",
    "):\n",
    "    \"\"\"Train Agent in the given Gym `env` using approximate Cross-Entropy\n",
    "\n",
    "    Args:\n",
    "        env (str, optional): Name of the Gym environment. Defaults to \"Gridworld-v0\".\n",
    "        num_trajectory_rollouts (int, optional): Number of trajectories to rollouts/sample. Defaults to 70.\n",
    "        elitism_criterion (int, optional): Threshold (as a percentage) to choose elites. Defaults to 70.\n",
    "        num_epochs (int, optional): Number of epochs to train on the elite trajectories. Defaults to 10.\n",
    "    \"\"\"\n",
    "    num_trajectory_rollouts = num_trajectory_rollouts\n",
    "    elitism_criterion = elitism_criterion  # Percentage\n",
    "    num_epochs = num_epochs\n",
    "\n",
    "    env = gym.make(env_id)\n",
    "    agent = Agent(env.action_space.n, env.observation_space.shape)\n",
    "\n",
    "    mean_rewards = []\n",
    "    elite_reward_thresholds = []\n",
    "    for i in tqdm(range(num_epochs)):\n",
    "        trajectories = [\n",
    "            Trajectory(*rollout(agent, env)) for _ in range(num_trajectory_rollouts)\n",
    "        ]\n",
    "        _, _, batch_rewards = zip(*trajectories)\n",
    "        elite_obs, elite_actions, elite_threshold = gather_elite_xp(\n",
    "            trajectories, elitism_criterion=elitism_criterion\n",
    "        )\n",
    "        elite_action_distributions = np.array(\n",
    "            [gen_action_distribution(a.item()) for a in elite_actions]\n",
    "        )\n",
    "        elite_obs, elite_action_distributions = (\n",
    "            elite_obs.astype(\"float16\"),\n",
    "            elite_action_distributions.astype(\"float16\"),\n",
    "        )\n",
    "        agent.learn(\n",
    "            elite_obs, elite_action_distributions, batch_size=128, epochs=3, verbose=0\n",
    "        )\n",
    "        mean_rewards.append(np.mean(batch_rewards))\n",
    "        elite_reward_thresholds.append(elite_threshold)\n",
    "        print(\n",
    "            f\"Episode#:{i + 1} elite-reward-threshold:{elite_reward_thresholds[-1]:.2f} reward:{mean_rewards[-1]:.2f} \"\n",
    "        )\n",
    "\n",
    "    plt.plot(mean_rewards, \"r-\", label=\"mean_reward\")\n",
    "    plt.plot(elite_reward_thresholds, \"g--\", label=\"elites_reward_threshold\")\n",
    "    plt.legend()\n",
    "    plt.grid()\n",
    "    plt.show()"
   ]
  },
  {
   "cell_type": "code",
   "execution_count": 12,
   "metadata": {},
   "outputs": [
    {
     "name": "stderr",
     "output_type": "stream",
     "text": [
      "\r",
      "  0%|          | 0/2 [00:00<?, ?it/s]"
     ]
    },
    {
     "name": "stderr",
     "output_type": "stream",
     "text": [
      "\r",
      " 50%|█████     | 1/2 [00:11<00:11, 11.98s/it]"
     ]
    },
    {
     "name": "stdout",
     "output_type": "stream",
     "text": [
      "Episode#:1 elite-reward-threshold:-1.98 reward:-4.13 \n"
     ]
    },
    {
     "name": "stderr",
     "output_type": "stream",
     "text": [
      "\r",
      "100%|██████████| 2/2 [00:23<00:00, 11.82s/it]"
     ]
    },
    {
     "name": "stderr",
     "output_type": "stream",
     "text": [
      "\r",
      "100%|██████████| 2/2 [00:23<00:00, 11.72s/it]"
     ]
    },
    {
     "name": "stdout",
     "output_type": "stream",
     "text": [
      "Episode#:2 elite-reward-threshold:-1.90 reward:-4.24 \n"
     ]
    },
    {
     "name": "stderr",
     "output_type": "stream",
     "text": [
      "\n"
     ]
    },
    {
     "data": {
      "image/png": "[encoded data removed]",
      "text/plain": [
       "<Figure size 432x288 with 1 Axes>"
      ]
     },
     "metadata": {
      "needs_background": "light"
     },
     "output_type": "display_data"
    }
   ],
   "source": [
    "if __name__ == \"__main__\":\n",
    "    train(num_epochs=2)  # Increase value of num_epochs"
   ]
  }
 ],
 "metadata": {
  "jupytext": {
   "cell_metadata_filter": "-all",
   "executable": "/usr/bin/env python",
   "formats": "ipynb,py"
  },
  "kernelspec": {
   "display_name": "tfrl-cookbook",
   "language": "python",
   "name": "tfrl-cookbook"
  },
  "language_info": {
   "codemirror_mode": {
    "name": "ipython",
    "version": 3
   },
   "file_extension": ".py",
   "mimetype": "text/x-python",
   "name": "python",
   "nbconvert_exporter": "python",
   "pygments_lexer": "ipython3",
   "version": "3.8.0"
  }
 },
 "nbformat": 4,
 "nbformat_minor": 4
}
